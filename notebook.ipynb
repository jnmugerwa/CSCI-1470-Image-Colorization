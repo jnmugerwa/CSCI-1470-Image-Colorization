{
 "cells": [
  {
   "cell_type": "code",
   "execution_count": 5,
   "outputs": [
    {
     "name": "stdout",
     "output_type": "stream",
     "text": [
      "(40, 32, 32, 2)\n"
     ]
    }
   ],
   "source": [
    "# Example of adding a third channel to a two-channel image\n",
    "import numpy as np\n",
    "batch_size = 40\n",
    "two_chan = np.zeros([batch_size, 32, 32, 2])\n",
    "one_chan = np.ones([batch_size, 32, 32, 1])\n",
    "three_chan = np.concatenate((two_chan, one_chan), axis=3)\n",
    "print(three_chan.shape)"
   ],
   "metadata": {
    "collapsed": false,
    "pycharm": {
     "name": "#%%\n"
    }
   }
  },
  {
   "cell_type": "code",
   "execution_count": null,
   "outputs": [],
   "source": [
    "# Getting (a, b) channels from an L*a*b image\n",
    "import numpy as np\n",
    "lab_image = np.zeros([32, 32, 3])\n",
    "print(lab_image[:, :, 1:])\n"
   ],
   "metadata": {
    "collapsed": false,
    "pycharm": {
     "name": "#%%\n"
    }
   }
  }
 ],
 "metadata": {
  "kernelspec": {
   "display_name": "Python 3",
   "language": "python",
   "name": "python3"
  },
  "language_info": {
   "codemirror_mode": {
    "name": "ipython",
    "version": 2
   },
   "file_extension": ".py",
   "mimetype": "text/x-python",
   "name": "python",
   "nbconvert_exporter": "python",
   "pygments_lexer": "ipython2",
   "version": "2.7.6"
  },
  "pycharm": {
   "stem_cell": {
    "cell_type": "raw",
    "source": [
     "# Example conversion from RGB to L*a*b colorspace\n",
     "import skimage\n",
     "from matplotlib import pyplot\n",
     "from skimage import color\n",
     "\n",
     "img = skimage.data.astronaut()\n",
     "lab = color.rgb2lab(img)\n",
     "pyplot.imshow(lab)\n",
     "pyplot.show()"
    ],
    "metadata": {
     "collapsed": false
    }
   }
  }
 },
 "nbformat": 4,
 "nbformat_minor": 0
}